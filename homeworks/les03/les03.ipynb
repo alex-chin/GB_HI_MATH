{
 "cells": [
  {
   "cell_type": "markdown",
   "id": "meaning-helena",
   "metadata": {},
   "source": [
    "# Задания к уроку 2"
   ]
  },
  {
   "cell_type": "markdown",
   "id": "british-wonder",
   "metadata": {},
   "source": [
    "## 1. Задание\n",
    "\n",
    "Даны два вектора в трехмерном пространстве: (10,10,10) и (0,0,-10)\n",
    "\n",
    "1) Найдите их сумму. (на листочке)\n",
    "\n",
    "2) Напишите код на Python, реализующий расчет длины вектора, заданного его координатами. (в программе)"
   ]
  },
  {
   "cell_type": "code",
   "execution_count": 30,
   "id": "peripheral-commander",
   "metadata": {},
   "outputs": [],
   "source": [
    "def dimension(p, q):\n",
    "    assert (len(p)>0 and len(q) > 0), \"размерность дб больше нуля\"\n",
    "    assert (len(p) == len(q)), \"размерность векторов отличается\"\n",
    "\n",
    "    sum=0\n",
    "    for i in range(len(p)):\n",
    "        sum+=(p[i] - q[i])**2\n",
    "    return sum**(1/2)"
   ]
  },
  {
   "cell_type": "code",
   "execution_count": 31,
   "id": "danish-producer",
   "metadata": {},
   "outputs": [],
   "source": [
    "p = [1,2]\n",
    "q = [12,30]"
   ]
  },
  {
   "cell_type": "code",
   "execution_count": 32,
   "id": "breathing-boutique",
   "metadata": {},
   "outputs": [
    {
     "data": {
      "text/plain": [
       "30.083217912982647"
      ]
     },
     "execution_count": 32,
     "metadata": {},
     "output_type": "execute_result"
    }
   ],
   "source": [
    "dimension(p, q)"
   ]
  },
  {
   "cell_type": "markdown",
   "id": "liberal-affair",
   "metadata": {},
   "source": [
    ">проверка"
   ]
  },
  {
   "cell_type": "code",
   "execution_count": 37,
   "id": "drawn-houston",
   "metadata": {},
   "outputs": [
    {
     "data": {
      "text/plain": [
       "30.083217912982647"
      ]
     },
     "execution_count": 37,
     "metadata": {},
     "output_type": "execute_result"
    }
   ],
   "source": [
    "import numpy as np\n",
    "p1 = np.array(p)\n",
    "q1 = np.array(q)\n",
    "np.linalg.norm(p1-q1)"
   ]
  },
  {
   "cell_type": "markdown",
   "id": "angry-grocery",
   "metadata": {},
   "source": [
    "## 2. Задание (на листочке)\n",
    "\n",
    "Почему прямые не кажутся перпендикулярными? (см.ролик)\n"
   ]
  },
  {
   "cell_type": "markdown",
   "id": "automated-leave",
   "metadata": {},
   "source": [
    " ![alt text]( orto_lines.png \"Title\")"
   ]
  },
  {
   "cell_type": "markdown",
   "id": "typical-circle",
   "metadata": {},
   "source": [
    ">проверка"
   ]
  },
  {
   "cell_type": "code",
   "execution_count": 72,
   "id": "concrete-geometry",
   "metadata": {},
   "outputs": [
    {
     "data": {
      "text/plain": [
       "[<matplotlib.lines.Line2D at 0x11bb04358>]"
      ]
     },
     "execution_count": 72,
     "metadata": {},
     "output_type": "execute_result"
    },
    {
     "data": {
      "image/png": "[encoded data removed]",
      "text/plain": [
       "<Figure size 432x288 with 1 Axes>"
      ]
     },
     "metadata": {
      "needs_background": "light"
     },
     "output_type": "display_data"
    }
   ],
   "source": [
    "x = np.linspace(-5, 5, 21)\n",
    "y1 = 3*x+1\n",
    "y2 = (-1/3)*x+1\n",
    "fig, ax = plt.subplots(1)\n",
    "ax.set_aspect(1)\n",
    "ax.plot(x, y1)\n",
    "ax.plot(x, y2)"
   ]
  },
  {
   "cell_type": "markdown",
   "id": "sweet-madonna",
   "metadata": {},
   "source": [
    "## 3. Задание (в программе)\n",
    "\n",
    "Напишите код на Python, реализующий построение графиков:\n",
    "\n",
    "1. окружности,\n",
    "\n",
    "2. эллипса,\n",
    "\n",
    "3. гиперболы."
   ]
  },
  {
   "cell_type": "code",
   "execution_count": 44,
   "id": "dominican-tribe",
   "metadata": {},
   "outputs": [],
   "source": [
    "from matplotlib import pyplot as plt\n",
    "\n",
    "%matplotlib inline"
   ]
  },
  {
   "cell_type": "markdown",
   "id": "level-redhead",
   "metadata": {},
   "source": [
    ">окружность"
   ]
  },
  {
   "cell_type": "code",
   "execution_count": 43,
   "id": "impossible-failure",
   "metadata": {},
   "outputs": [
    {
     "data": {
      "text/plain": [
       "[<matplotlib.lines.Line2D at 0x11b797518>]"
      ]
     },
     "execution_count": 43,
     "metadata": {},
     "output_type": "execute_result"
    },
    {
     "data": {
      "image/png": "[encoded data removed]",
      "text/plain": [
       "<Figure size 432x288 with 1 Axes>"
      ]
     },
     "metadata": {
      "needs_background": "light"
     },
     "output_type": "display_data"
    }
   ],
   "source": [
    "theta = np.linspace(0, 2*np.pi, 100)\n",
    "\n",
    "r = np.sqrt(1.0)\n",
    "\n",
    "x1 = r*np.cos(theta)\n",
    "x2 = r*np.sin(theta)\n",
    "\n",
    "fig, ax = plt.subplots(1)\n",
    "ax.set_aspect(1)\n",
    "ax.plot(x1, x2)\n"
   ]
  },
  {
   "cell_type": "markdown",
   "id": "orange-program",
   "metadata": {},
   "source": [
    ">эллипс"
   ]
  },
  {
   "cell_type": "code",
   "execution_count": 73,
   "id": "behind-transfer",
   "metadata": {},
   "outputs": [
    {
     "data": {
      "text/plain": [
       "[<matplotlib.lines.Line2D at 0x11baa8a90>]"
      ]
     },
     "execution_count": 73,
     "metadata": {},
     "output_type": "execute_result"
    },
    {
     "data": {
      "image/png": "[encoded data removed]",
      "text/plain": [
       "<Figure size 432x288 with 1 Axes>"
      ]
     },
     "metadata": {
      "needs_background": "light"
     },
     "output_type": "display_data"
    }
   ],
   "source": [
    "r1 = 2.5\n",
    "r2 =  1\n",
    " \n",
    "x1 = r1*np.cos(theta)\n",
    "x2 = r2*np.sin(theta)\n",
    "\n",
    "fig, ax = plt.subplots(1)\n",
    "ax.set_aspect(1)\n",
    "ax.plot(x1, x2)"
   ]
  },
  {
   "cell_type": "markdown",
   "id": "handmade-answer",
   "metadata": {},
   "source": [
    ">гипербола"
   ]
  },
  {
   "cell_type": "code",
   "execution_count": 67,
   "id": "regular-cornwall",
   "metadata": {},
   "outputs": [
    {
     "name": "stderr",
     "output_type": "stream",
     "text": [
      "/Users/coraleks/Projects/GeekBrainsAI/gb_libs_ds/venv/lib/python3.7/site-packages/ipykernel_launcher.py:4: RuntimeWarning: divide by zero encountered in true_divide\n",
      "  after removing the cwd from sys.path.\n"
     ]
    },
    {
     "data": {
      "text/plain": [
       "[<matplotlib.lines.Line2D at 0x11beef668>]"
      ]
     },
     "execution_count": 67,
     "metadata": {},
     "output_type": "execute_result"
    },
    {
     "data": {
      "image/png": "[encoded data removed]",
      "text/plain": [
       "<Figure size 432x288 with 1 Axes>"
      ]
     },
     "metadata": {
      "needs_background": "light"
     },
     "output_type": "display_data"
    }
   ],
   "source": [
    "\n",
    "x1 = np.around(np.arange(-10, 10, .1), decimals=4)\n",
    "# x1 = np.delete(x1, np.where(x1 == 0))\n",
    "\n",
    "x2 = 1 / x1\n",
    "\n",
    "plt.plot(x1, x2)\n"
   ]
  },
  {
   "cell_type": "code",
   "execution_count": null,
   "id": "associate-barrier",
   "metadata": {},
   "outputs": [],
   "source": []
  }
 ],
 "metadata": {
  "kernelspec": {
   "display_name": "Python 3",
   "language": "python",
   "name": "python3"
  },
  "language_info": {
   "codemirror_mode": {
    "name": "ipython",
    "version": 3
   },
   "file_extension": ".py",
   "mimetype": "text/x-python",
   "name": "python",
   "nbconvert_exporter": "python",
   "pygments_lexer": "ipython3",
   "version": "3.7.3"
  }
 },
 "nbformat": 4,
 "nbformat_minor": 5
}
