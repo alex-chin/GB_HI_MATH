{
 "cells": [
  {
   "cell_type": "markdown",
   "id": "australian-situation",
   "metadata": {},
   "source": [
    "## Задания к видеоуроку “Элементарная алгебра”\n",
    "\n",
    "Присылайте фото листочков с вашими решениями или просто ответы в текстовом файле .doc или .txt (1-3 задание).\n",
    "\n",
    "\n",
    "Прикладывайте ссылку на ваш репозиторий с кодом (4 задание). Для написания кода используйте привычную среду программирования, желательно, Jupiter Notebook"
   ]
  },
  {
   "cell_type": "markdown",
   "id": "lonely-liberal",
   "metadata": {},
   "source": [
    "**1. Задание** (на листочке)"
   ]
  },
  {
   "cell_type": "markdown",
   "id": "unauthorized-angle",
   "metadata": {},
   "source": [
    "$$7 *\n",
    "\\begin{bmatrix} 5 & 10\\\\ 7 & 12 \\\\ 11.3 & 5 \\\\ 25 & 30 \\end{bmatrix} \n",
    "+ 2 * \n",
    "\\begin{bmatrix} 5 & 10\\\\ 7 & 12 \\\\ 11.3 & 5 \\\\ 25 & 30 \\end{bmatrix}=\n",
    "9*\\begin{bmatrix} 5 & 10\\\\ 7 & 12 \\\\ 11.3 & 5 \\\\ 25 & 30 \\end{bmatrix} \n",
    "$$"
   ]
  },
  {
   "cell_type": "code",
   "execution_count": 1,
   "id": "seventh-justice",
   "metadata": {},
   "outputs": [],
   "source": [
    "import numpy as np"
   ]
  },
  {
   "cell_type": "code",
   "execution_count": 2,
   "id": "breathing-billy",
   "metadata": {},
   "outputs": [
    {
     "data": {
      "text/plain": [
       "array([[ 45. ,  90. ],\n",
       "       [ 63. , 108. ],\n",
       "       [101.7,  45. ],\n",
       "       [225. , 270. ]])"
      ]
     },
     "execution_count": 2,
     "metadata": {},
     "output_type": "execute_result"
    }
   ],
   "source": [
    "9*np.array([[5,10],[7,12],[11.3,5],[25,30]])"
   ]
  },
  {
   "cell_type": "markdown",
   "id": "optical-division",
   "metadata": {},
   "source": [
    "> Ответ $$\\begin{bmatrix}\n",
    " 45 &  90 \\\\\n",
    " 63 & 108 \\\\\n",
    " 101.7 &  45 \\\\\n",
    " 225 & 270 \\end{bmatrix}$$"
   ]
  },
  {
   "cell_type": "markdown",
   "id": "adopted-nepal",
   "metadata": {},
   "source": [
    "**2.1 Задание** "
   ]
  },
  {
   "cell_type": "markdown",
   "id": "executive-washer",
   "metadata": {},
   "source": [
    "$$\\begin{cases}\n",
    "   {\n",
    "3x – 2y + 5z = 7 \\\\\n",
    "7x + 4y – 8z = 3 \\\\\n",
    "5x – 3y– 4z = –12\n",
    "  }\n",
    "\\end{cases}$$"
   ]
  },
  {
   "cell_type": "markdown",
   "id": "impaired-norwegian",
   "metadata": {},
   "source": [
    ">Ответ\n",
    "$$\\begin{equation*}\n",
    "15x–1y-7z=-2\n",
    "\\end{equation*}$$\n",
    "\n",
    ">Каждое из уравнений является линейным. И система уравнений в целом также является линейной"
   ]
  },
  {
   "cell_type": "markdown",
   "id": "approximate-finding",
   "metadata": {},
   "source": [
    "**2.2 Задание** "
   ]
  },
  {
   "cell_type": "markdown",
   "id": "finished-hundred",
   "metadata": {},
   "source": [
    "$$\\begin{cases}\n",
    "   {\n",
    "x^2 + y*x – 9 = 0\\\\\n",
    "x – \\frac{y}5 = 0\n",
    "  }\n",
    "\\end{cases}$$"
   ]
  },
  {
   "cell_type": "markdown",
   "id": "olympic-remains",
   "metadata": {},
   "source": [
    ">уравнение 1 является нелинейным. И система уравнений в целом также является нелинейной"
   ]
  },
  {
   "cell_type": "markdown",
   "id": "phantom-intervention",
   "metadata": {},
   "source": [
    "*Решение*"
   ]
  },
  {
   "cell_type": "markdown",
   "id": "respiratory-kelly",
   "metadata": {},
   "source": [
    "$$\\begin{equation*}\n",
    "x = \\frac{y}5\\\\\n",
    "(\\frac{y}5)^2 + y*\\frac{y}5=9\\\\\n",
    "y^2*\\frac{1}{25} + y^2*\\frac{1}{5} =9\\\\ \n",
    "y^2*\\frac{1}{25} + y^2*\\frac{5}{25} =9\\\\ \n",
    "y^2*(\\frac{1}{25} + \\frac{5}{25}) =9\\\\ \n",
    "y^2*(\\frac{6}{25}) =9\\\\ \n",
    "y^2 = \\frac{9*25}{6}\\\\\n",
    "y=\\sqrt{\\frac{225}{6}}\\\\\n",
    "y=\\frac{15}{\\sqrt{6}}\\\\\n",
    "\\end{equation*}$$\n"
   ]
  },
  {
   "cell_type": "markdown",
   "id": "enabling-sailing",
   "metadata": {},
   "source": [
    "**3. Задание** "
   ]
  },
  {
   "cell_type": "markdown",
   "id": "improving-programmer",
   "metadata": {},
   "source": [
    "Решите задачу:\n",
    "Площадь пола прямоугольной комнаты равна 48 м2,а его периметр равен 28 м. Найдите длину и ширину комнаты."
   ]
  },
  {
   "cell_type": "markdown",
   "id": "found-release",
   "metadata": {},
   "source": [
    "$$\\begin{cases}\n",
    "   {\n",
    "y*x = 48\\\\\n",
    "2(x+y) = 28\n",
    "  }\n",
    "\\end{cases}$$"
   ]
  },
  {
   "cell_type": "markdown",
   "id": "stretch-fishing",
   "metadata": {},
   "source": [
    "*Решение*"
   ]
  },
  {
   "cell_type": "markdown",
   "id": "equipped-tuesday",
   "metadata": {},
   "source": [
    "$$\\begin{equation*}\n",
    "x+y=14\\\\\n",
    "x=14-y\\\\\n",
    "\\\\\n",
    "y(14-y)=48\\\\\n",
    "14y-y^2=48\\\\\n",
    "-y^2+14y-48=0\\\\\n",
    "D=14^2-4*48=4\\\\\n",
    "y_{1,2}=\\frac{-14±2}{-2}\\\\\n",
    "y_1=6,   y_2=8\\\\\n",
    "\\end{equation*}$$\n"
   ]
  },
  {
   "cell_type": "markdown",
   "id": "japanese-accreditation",
   "metadata": {},
   "source": [
    ">*Ответ* ширина и длина равны 6 и 8 м"
   ]
  },
  {
   "cell_type": "markdown",
   "id": "skilled-short",
   "metadata": {},
   "source": [
    "**4. Задание** "
   ]
  },
  {
   "cell_type": "markdown",
   "id": "threaded-negative",
   "metadata": {},
   "source": [
    "Постройте на одном графике две кривые y(x) для функции двух переменных y(k,x)=cos(k∙x), взяв для одной кривой значение k=1, а для другой – любое другое k, не равное 1.."
   ]
  },
  {
   "cell_type": "code",
   "execution_count": 20,
   "id": "saved-priest",
   "metadata": {},
   "outputs": [],
   "source": [
    "%matplotlib inline\n",
    "import numpy as np\n",
    "import matplotlib.pyplot as plt"
   ]
  },
  {
   "cell_type": "code",
   "execution_count": 23,
   "id": "collect-thursday",
   "metadata": {},
   "outputs": [
    {
     "data": {
      "text/plain": [
       "[<matplotlib.lines.Line2D at 0x1ead7259c88>]"
      ]
     },
     "execution_count": 23,
     "metadata": {},
     "output_type": "execute_result"
    },
    {
     "data": {
      "image/png": "[encoded data removed]",
      "text/plain": [
       "<Figure size 432x288 with 1 Axes>"
      ]
     },
     "metadata": {
      "needs_background": "light"
     },
     "output_type": "display_data"
    }
   ],
   "source": [
    "x=np.arange(0,20,0.1)\n",
    "k1=1\n",
    "k2=1.5\n",
    "plt.plot(x, np.cos(k1*x))\n",
    "plt.plot(x, np.cos(k2*x))"
   ]
  },
  {
   "cell_type": "code",
   "execution_count": null,
   "id": "naked-weekend",
   "metadata": {},
   "outputs": [],
   "source": []
  }
 ],
 "metadata": {
  "kernelspec": {
   "display_name": "Python 3",
   "language": "python",
   "name": "python3"
  },
  "language_info": {
   "codemirror_mode": {
    "name": "ipython",
    "version": 3
   },
   "file_extension": ".py",
   "mimetype": "text/x-python",
   "name": "python",
   "nbconvert_exporter": "python",
   "pygments_lexer": "ipython3",
   "version": "3.7.3"
  }
 },
 "nbformat": 4,
 "nbformat_minor": 5
}
