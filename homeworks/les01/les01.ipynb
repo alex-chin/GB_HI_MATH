{
 "cells": [
  {
   "cell_type": "markdown",
   "id": "saving-hearing",
   "metadata": {},
   "source": [
    "## Задания к видеоуроку “Элементарная алгебра”\n",
    "\n",
    "Присылайте фото листочков с вашими решениями или просто ответы в текстовом файле .doc или .txt (1-3 задание).\n",
    "\n",
    "\n",
    "Прикладывайте ссылку на ваш репозиторий с кодом (4 задание). Для написания кода используйте привычную среду программирования, желательно, Jupiter Notebook"
   ]
  },
  {
   "cell_type": "markdown",
   "id": "quality-oxford",
   "metadata": {},
   "source": [
    "1. **Задание** (на листочке)"
   ]
  },
  {
   "cell_type": "markdown",
   "id": "dense-bulgaria",
   "metadata": {},
   "source": [
    "$$7*\n",
    "\\begin{bmatrix} 5 & 10\\\\ 7 & 12 \\\\ 11.3 & 5 \\\\ 25 & 30 \\end{bmatrix} \n",
    "+ 2 * \n",
    "\\begin{bmatrix} 5 & 10\\\\ 7 & 12 \\\\ 11.3 & 5 \\\\ 25 & 30 \\end{bmatrix}=$$"
   ]
  },
  {
   "cell_type": "code",
   "execution_count": 1,
   "id": "banned-enforcement",
   "metadata": {},
   "outputs": [],
   "source": [
    "import numpy as np"
   ]
  },
  {
   "cell_type": "code",
   "execution_count": 6,
   "id": "absent-providence",
   "metadata": {},
   "outputs": [
    {
     "data": {
      "text/plain": [
       "array([[ 45. ,  90. ],\n",
       "       [ 63. , 108. ],\n",
       "       [101.7,  45. ],\n",
       "       [225. , 270. ]])"
      ]
     },
     "execution_count": 6,
     "metadata": {},
     "output_type": "execute_result"
    }
   ],
   "source": [
    "7*np.array([[5,10],[7,12],[11.3,5],[25,30]])+\\\n",
    "2*np.array([[5,10],[7,12],[11.3,5],[25,30]])"
   ]
  },
  {
   "cell_type": "markdown",
   "id": "neutral-improvement",
   "metadata": {},
   "source": [
    "> Ответ $$\\begin{bmatrix}\n",
    " 45 &  90 \\\\\n",
    " 63 & 108 \\\\\n",
    " 101.7 &  45 \\\\\n",
    " 225 & 270 \\end{bmatrix}$$"
   ]
  },
  {
   "cell_type": "markdown",
   "id": "initial-advertiser",
   "metadata": {},
   "source": [
    "2. **Задание** "
   ]
  },
  {
   "cell_type": "markdown",
   "id": "recorded-coach",
   "metadata": {},
   "source": [
    "$$\\begin{cases}\n",
    "   {\n",
    "3x – 2y + 5z = 7 \\\\\n",
    "7x + 4y – 8z = 3 \\\\\n",
    "5x – 3y– 4z = –12 \\\\\n",
    "  }\n",
    "\\end{cases}$$"
   ]
  },
  {
   "cell_type": "markdown",
   "id": "false-brief",
   "metadata": {},
   "source": [
    "$$\\begin{equation*}\n",
    "   \n",
    "3x – 2y + 5z = 7\n",
    "  \n",
    "\\end{equation*}$$"
   ]
  },
  {
   "cell_type": "code",
   "execution_count": null,
   "id": "timely-segment",
   "metadata": {},
   "outputs": [],
   "source": []
  }
 ],
 "metadata": {
  "kernelspec": {
   "display_name": "Python 3",
   "language": "python",
   "name": "python3"
  },
  "language_info": {
   "codemirror_mode": {
    "name": "ipython",
    "version": 3
   },
   "file_extension": ".py",
   "mimetype": "text/x-python",
   "name": "python",
   "nbconvert_exporter": "python",
   "pygments_lexer": "ipython3",
   "version": "3.6.13"
  }
 },
 "nbformat": 4,
 "nbformat_minor": 5
}
